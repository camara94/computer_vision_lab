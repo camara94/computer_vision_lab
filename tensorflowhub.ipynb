{
 "cells": [
  {
   "cell_type": "markdown",
   "id": "d9c780d8",
   "metadata": {},
   "source": [
    "# TensorFlow Hub\n",
    "\n",
    "TensorFlow Hub est un dépôt de modèles de machine learning entraînés, prêts à être optimisés et déployés n'importe où. Vous pouvez réutiliser des modèles entraînés comme BERT et Faster R-CNN avec simplement quelques lignes de code."
   ]
  },
  {
   "cell_type": "code",
   "execution_count": null,
   "id": "4961e69c",
   "metadata": {},
   "outputs": [],
   "source": [
    "# !pip install --upgrade tensorflow_hub\n",
    "\n",
    "import tensorflow_hub as hub\n",
    "\n",
    "model = hub.KerasLayer(\"https://tfhub.dev/google/nnlm-en-dim128/2\")\n",
    "embeddings = model([\"The rain in Spain.\", \"falls\",\n",
    "                      \"mainly\", \"In the plain!\"])\n",
    "\n",
    "print(embeddings.shape)  #(4,128)"
   ]
  },
  {
   "cell_type": "code",
   "execution_count": null,
   "id": "7efc232d",
   "metadata": {},
   "outputs": [],
   "source": []
  }
 ],
 "metadata": {
  "kernelspec": {
   "display_name": "Python 3 (ipykernel)",
   "language": "python",
   "name": "python3"
  },
  "language_info": {
   "codemirror_mode": {
    "name": "ipython",
    "version": 3
   },
   "file_extension": ".py",
   "mimetype": "text/x-python",
   "name": "python",
   "nbconvert_exporter": "python",
   "pygments_lexer": "ipython3",
   "version": "3.9.12"
  }
 },
 "nbformat": 4,
 "nbformat_minor": 5
}
